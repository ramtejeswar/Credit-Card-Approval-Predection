{
 "cells": [
  {
   "cell_type": "markdown",
   "metadata": {},
   "source": [
    "# <center> CREDIT CARD APPROVAL PREDICTION </center>"
   ]
  },
  {
   "cell_type": "code",
   "execution_count": 1,
   "metadata": {
    "id": "4h63uRENc7pZ"
   },
   "outputs": [],
   "source": [
    "# Importing necessary libraries\n",
    "import warnings\n",
    "warnings.filterwarnings('ignore')  # Ignore warnings to improve code readability\n",
    "\n",
    "import numpy as np\n",
    "import pandas as pd\n",
    "import matplotlib.pyplot as plt\n",
    "import seaborn as sns\n",
    "from imblearn.over_sampling import SMOTE  # Importing SMOTE for oversampling\n",
    "import itertools\n",
    "\n",
    "from sklearn.model_selection import train_test_split\n",
    "from sklearn.metrics import accuracy_score, confusion_matrix\n",
    "from sklearn.linear_model import LogisticRegression\n",
    "from sklearn.tree import DecisionTreeClassifier\n",
    "\n",
    "from xgboost import XGBClassifier\n",
    "from lightgbm import LGBMClassifier\n",
    "from sklearn import svm\n",
    "from sklearn.ensemble import RandomForestClassifier"
   ]
  },
  {
   "cell_type": "code",
   "execution_count": 2,
   "metadata": {
    "id": "--iupro7dFWP"
   },
   "outputs": [],
   "source": [
    "#importing the data using pandas\n",
    "dataset = pd.read_csv(\"application_record.csv\")\n",
    "records_file = pd.read_csv(\"credit_record.csv\")"
   ]
  },
  {
   "cell_type": "code",
   "execution_count": 3,
   "metadata": {},
   "outputs": [
    {
     "data": {
      "text/html": [
       "<div>\n",
       "<style scoped>\n",
       "    .dataframe tbody tr th:only-of-type {\n",
       "        vertical-align: middle;\n",
       "    }\n",
       "\n",
       "    .dataframe tbody tr th {\n",
       "        vertical-align: top;\n",
       "    }\n",
       "\n",
       "    .dataframe thead th {\n",
       "        text-align: right;\n",
       "    }\n",
       "</style>\n",
       "<table border=\"1\" class=\"dataframe\">\n",
       "  <thead>\n",
       "    <tr style=\"text-align: right;\">\n",
       "      <th></th>\n",
       "      <th>ID</th>\n",
       "      <th>CODE_GENDER</th>\n",
       "      <th>FLAG_OWN_CAR</th>\n",
       "      <th>FLAG_OWN_REALTY</th>\n",
       "      <th>CNT_CHILDREN</th>\n",
       "      <th>AMT_INCOME_TOTAL</th>\n",
       "      <th>NAME_INCOME_TYPE</th>\n",
       "      <th>NAME_EDUCATION_TYPE</th>\n",
       "      <th>NAME_FAMILY_STATUS</th>\n",
       "      <th>NAME_HOUSING_TYPE</th>\n",
       "      <th>DAYS_BIRTH</th>\n",
       "      <th>DAYS_EMPLOYED</th>\n",
       "      <th>FLAG_MOBIL</th>\n",
       "      <th>FLAG_WORK_PHONE</th>\n",
       "      <th>FLAG_PHONE</th>\n",
       "      <th>FLAG_EMAIL</th>\n",
       "      <th>OCCUPATION_TYPE</th>\n",
       "      <th>CNT_FAM_MEMBERS</th>\n",
       "    </tr>\n",
       "  </thead>\n",
       "  <tbody>\n",
       "    <tr>\n",
       "      <th>0</th>\n",
       "      <td>5008804</td>\n",
       "      <td>M</td>\n",
       "      <td>Y</td>\n",
       "      <td>Y</td>\n",
       "      <td>0</td>\n",
       "      <td>427500.0</td>\n",
       "      <td>Working</td>\n",
       "      <td>Higher education</td>\n",
       "      <td>Civil marriage</td>\n",
       "      <td>Rented apartment</td>\n",
       "      <td>-12005</td>\n",
       "      <td>-4542</td>\n",
       "      <td>1</td>\n",
       "      <td>1</td>\n",
       "      <td>0</td>\n",
       "      <td>0</td>\n",
       "      <td>NaN</td>\n",
       "      <td>2.0</td>\n",
       "    </tr>\n",
       "    <tr>\n",
       "      <th>1</th>\n",
       "      <td>5008805</td>\n",
       "      <td>M</td>\n",
       "      <td>Y</td>\n",
       "      <td>Y</td>\n",
       "      <td>0</td>\n",
       "      <td>427500.0</td>\n",
       "      <td>Working</td>\n",
       "      <td>Higher education</td>\n",
       "      <td>Civil marriage</td>\n",
       "      <td>Rented apartment</td>\n",
       "      <td>-12005</td>\n",
       "      <td>-4542</td>\n",
       "      <td>1</td>\n",
       "      <td>1</td>\n",
       "      <td>0</td>\n",
       "      <td>0</td>\n",
       "      <td>NaN</td>\n",
       "      <td>2.0</td>\n",
       "    </tr>\n",
       "    <tr>\n",
       "      <th>2</th>\n",
       "      <td>5008806</td>\n",
       "      <td>M</td>\n",
       "      <td>Y</td>\n",
       "      <td>Y</td>\n",
       "      <td>0</td>\n",
       "      <td>112500.0</td>\n",
       "      <td>Working</td>\n",
       "      <td>Secondary / secondary special</td>\n",
       "      <td>Married</td>\n",
       "      <td>House / apartment</td>\n",
       "      <td>-21474</td>\n",
       "      <td>-1134</td>\n",
       "      <td>1</td>\n",
       "      <td>0</td>\n",
       "      <td>0</td>\n",
       "      <td>0</td>\n",
       "      <td>Security staff</td>\n",
       "      <td>2.0</td>\n",
       "    </tr>\n",
       "    <tr>\n",
       "      <th>3</th>\n",
       "      <td>5008808</td>\n",
       "      <td>F</td>\n",
       "      <td>N</td>\n",
       "      <td>Y</td>\n",
       "      <td>0</td>\n",
       "      <td>270000.0</td>\n",
       "      <td>Commercial associate</td>\n",
       "      <td>Secondary / secondary special</td>\n",
       "      <td>Single / not married</td>\n",
       "      <td>House / apartment</td>\n",
       "      <td>-19110</td>\n",
       "      <td>-3051</td>\n",
       "      <td>1</td>\n",
       "      <td>0</td>\n",
       "      <td>1</td>\n",
       "      <td>1</td>\n",
       "      <td>Sales staff</td>\n",
       "      <td>1.0</td>\n",
       "    </tr>\n",
       "    <tr>\n",
       "      <th>4</th>\n",
       "      <td>5008809</td>\n",
       "      <td>F</td>\n",
       "      <td>N</td>\n",
       "      <td>Y</td>\n",
       "      <td>0</td>\n",
       "      <td>270000.0</td>\n",
       "      <td>Commercial associate</td>\n",
       "      <td>Secondary / secondary special</td>\n",
       "      <td>Single / not married</td>\n",
       "      <td>House / apartment</td>\n",
       "      <td>-19110</td>\n",
       "      <td>-3051</td>\n",
       "      <td>1</td>\n",
       "      <td>0</td>\n",
       "      <td>1</td>\n",
       "      <td>1</td>\n",
       "      <td>Sales staff</td>\n",
       "      <td>1.0</td>\n",
       "    </tr>\n",
       "  </tbody>\n",
       "</table>\n",
       "</div>"
      ],
      "text/plain": [
       "        ID CODE_GENDER FLAG_OWN_CAR FLAG_OWN_REALTY  CNT_CHILDREN  \\\n",
       "0  5008804           M            Y               Y             0   \n",
       "1  5008805           M            Y               Y             0   \n",
       "2  5008806           M            Y               Y             0   \n",
       "3  5008808           F            N               Y             0   \n",
       "4  5008809           F            N               Y             0   \n",
       "\n",
       "   AMT_INCOME_TOTAL      NAME_INCOME_TYPE            NAME_EDUCATION_TYPE  \\\n",
       "0          427500.0               Working               Higher education   \n",
       "1          427500.0               Working               Higher education   \n",
       "2          112500.0               Working  Secondary / secondary special   \n",
       "3          270000.0  Commercial associate  Secondary / secondary special   \n",
       "4          270000.0  Commercial associate  Secondary / secondary special   \n",
       "\n",
       "     NAME_FAMILY_STATUS  NAME_HOUSING_TYPE  DAYS_BIRTH  DAYS_EMPLOYED  \\\n",
       "0        Civil marriage   Rented apartment      -12005          -4542   \n",
       "1        Civil marriage   Rented apartment      -12005          -4542   \n",
       "2               Married  House / apartment      -21474          -1134   \n",
       "3  Single / not married  House / apartment      -19110          -3051   \n",
       "4  Single / not married  House / apartment      -19110          -3051   \n",
       "\n",
       "   FLAG_MOBIL  FLAG_WORK_PHONE  FLAG_PHONE  FLAG_EMAIL OCCUPATION_TYPE  \\\n",
       "0           1                1           0           0             NaN   \n",
       "1           1                1           0           0             NaN   \n",
       "2           1                0           0           0  Security staff   \n",
       "3           1                0           1           1     Sales staff   \n",
       "4           1                0           1           1     Sales staff   \n",
       "\n",
       "   CNT_FAM_MEMBERS  \n",
       "0              2.0  \n",
       "1              2.0  \n",
       "2              2.0  \n",
       "3              1.0  \n",
       "4              1.0  "
      ]
     },
     "execution_count": 3,
     "metadata": {},
     "output_type": "execute_result"
    }
   ],
   "source": [
    "dataset.head()"
   ]
  },
  {
   "cell_type": "code",
   "execution_count": 4,
   "metadata": {},
   "outputs": [
    {
     "data": {
      "text/plain": [
       "(438557, 18)"
      ]
     },
     "execution_count": 4,
     "metadata": {},
     "output_type": "execute_result"
    }
   ],
   "source": [
    "dataset.shape"
   ]
  },
  {
   "cell_type": "code",
   "execution_count": 5,
   "metadata": {},
   "outputs": [
    {
     "data": {
      "text/html": [
       "<div>\n",
       "<style scoped>\n",
       "    .dataframe tbody tr th:only-of-type {\n",
       "        vertical-align: middle;\n",
       "    }\n",
       "\n",
       "    .dataframe tbody tr th {\n",
       "        vertical-align: top;\n",
       "    }\n",
       "\n",
       "    .dataframe thead th {\n",
       "        text-align: right;\n",
       "    }\n",
       "</style>\n",
       "<table border=\"1\" class=\"dataframe\">\n",
       "  <thead>\n",
       "    <tr style=\"text-align: right;\">\n",
       "      <th></th>\n",
       "      <th>ID</th>\n",
       "      <th>MONTHS_BALANCE</th>\n",
       "      <th>STATUS</th>\n",
       "    </tr>\n",
       "  </thead>\n",
       "  <tbody>\n",
       "    <tr>\n",
       "      <th>0</th>\n",
       "      <td>5001711</td>\n",
       "      <td>0</td>\n",
       "      <td>X</td>\n",
       "    </tr>\n",
       "    <tr>\n",
       "      <th>1</th>\n",
       "      <td>5001711</td>\n",
       "      <td>-1</td>\n",
       "      <td>0</td>\n",
       "    </tr>\n",
       "    <tr>\n",
       "      <th>2</th>\n",
       "      <td>5001711</td>\n",
       "      <td>-2</td>\n",
       "      <td>0</td>\n",
       "    </tr>\n",
       "    <tr>\n",
       "      <th>3</th>\n",
       "      <td>5001711</td>\n",
       "      <td>-3</td>\n",
       "      <td>0</td>\n",
       "    </tr>\n",
       "    <tr>\n",
       "      <th>4</th>\n",
       "      <td>5001712</td>\n",
       "      <td>0</td>\n",
       "      <td>C</td>\n",
       "    </tr>\n",
       "  </tbody>\n",
       "</table>\n",
       "</div>"
      ],
      "text/plain": [
       "        ID  MONTHS_BALANCE STATUS\n",
       "0  5001711               0      X\n",
       "1  5001711              -1      0\n",
       "2  5001711              -2      0\n",
       "3  5001711              -3      0\n",
       "4  5001712               0      C"
      ]
     },
     "execution_count": 5,
     "metadata": {},
     "output_type": "execute_result"
    }
   ],
   "source": [
    "records_file.head()"
   ]
  },
  {
   "cell_type": "code",
   "execution_count": 6,
   "metadata": {},
   "outputs": [
    {
     "data": {
      "text/plain": [
       "(1048575, 3)"
      ]
     },
     "execution_count": 6,
     "metadata": {},
     "output_type": "execute_result"
    }
   ],
   "source": [
    "records_file.shape"
   ]
  },
  {
   "cell_type": "code",
   "execution_count": 7,
   "metadata": {
    "id": "rcMTlt59dM7R"
   },
   "outputs": [],
   "source": [
    "# Setting the facecolor of matplotlib figures to white\n",
    "plt.rcParams['figure.facecolor'] = 'white'"
   ]
  },
  {
   "cell_type": "code",
   "execution_count": 8,
   "metadata": {
    "id": "-yHYppRpdYyC"
   },
   "outputs": [],
   "source": [
    "# Find all users' account open month\n",
    "begin_month = pd.DataFrame(records_file.groupby([\"ID\"])[\"MONTHS_BALANCE\"].agg(min))\n",
    "begin_month = begin_month.rename(columns={'MONTHS_BALANCE': 'begin_month1'})\n",
    "\n",
    "# Merge data_set and begin_month using the merge method\n",
    "new_data = dataset.merge(begin_month, how=\"left\", on=\"ID\")\n"
   ]
  },
  {
   "cell_type": "code",
   "execution_count": 9,
   "metadata": {
    "id": "UhQyNDSvdawO"
   },
   "outputs": [],
   "source": [
    "# Create a new column 'dep_value' in the 'records_file' DataFrame based on certain conditions\n",
    "records_file['dep_value'] = np.where((records_file['STATUS'] == '2') | (records_file['STATUS'] == '3') |\n",
    "                               (records_file['STATUS'] == '4') | (records_file['STATUS'] == '5'), 'Yes', None)"
   ]
  },
  {
   "cell_type": "code",
   "execution_count": 10,
   "metadata": {
    "id": "H8nTAJJidshW"
   },
   "outputs": [],
   "source": [
    "# Perform operations to create a 'target' variable based on the 'dep_value' column\n",
    "\n",
    "# Group 'records_file' by 'ID' and count occurrences, storing the result in 'cpunt' DataFrame\n",
    "cpunt = records_file.groupby('ID').count()\n",
    "\n",
    "# Set 'dep_value' to 'Yes' if the count of occurrences is greater than 0, otherwise set it to 'No'\n",
    "cpunt['dep_value'][cpunt['dep_value'] > 0] = 'Yes'\n",
    "cpunt['dep_value'][cpunt['dep_value'] == 0] = 'No'\n",
    "\n",
    "# Extract the 'dep_value' column and create a new DataFrame 'cpunt' with only this column\n",
    "cpunt = cpunt[['dep_value']]\n",
    "\n",
    "# Merge 'new_data' with 'cpunt' based on the common 'ID' column, using an inner join\n",
    "new_data = pd.merge(new_data, cpunt, how='inner', on='ID')\n",
    "\n",
    "# Create a new 'target' column in 'new_data' and set it equal to 'dep_value'\n",
    "new_data['target'] = new_data['dep_value']\n",
    "\n",
    "# Map 'Yes' to 1 and 'No' to 0 in the 'target' column\n",
    "new_data.loc[new_data['target'] == 'Yes', 'target'] = 1\n",
    "new_data.loc[new_data['target'] == 'No', 'target'] = 0"
   ]
  },
  {
   "cell_type": "code",
   "execution_count": 11,
   "metadata": {
    "colab": {
     "base_uri": "https://localhost:8080/"
    },
    "id": "oRAUQxpOd6io",
    "outputId": "1cb838d0-a80e-49ac-c7eb-b730f22d187b"
   },
   "outputs": [
    {
     "name": "stdout",
     "output_type": "stream",
     "text": [
      "dep_value\n",
      "No     45318\n",
      "Yes      667\n",
      "Name: count, dtype: int64\n",
      "dep_value\n",
      "No     0.985495\n",
      "Yes    0.014505\n",
      "Name: proportion, dtype: float64\n"
     ]
    }
   ],
   "source": [
    "print(cpunt['dep_value'].value_counts())\n",
    "print(cpunt['dep_value'].value_counts(normalize=True))"
   ]
  },
  {
   "cell_type": "code",
   "execution_count": 12,
   "metadata": {
    "colab": {
     "base_uri": "https://localhost:8080/"
    },
    "id": "PI9KIrRloSdf",
    "outputId": "888e6b7c-2b1a-4357-d900-52de234119fa"
   },
   "outputs": [
    {
     "data": {
      "text/plain": [
       "count    438557.000000\n",
       "mean     -15997.904649\n",
       "std        4185.030007\n",
       "min      -25201.000000\n",
       "25%      -19483.000000\n",
       "50%      -15630.000000\n",
       "75%      -12514.000000\n",
       "max       -7489.000000\n",
       "Name: DAYS_BIRTH, dtype: float64"
      ]
     },
     "execution_count": 12,
     "metadata": {},
     "output_type": "execute_result"
    }
   ],
   "source": [
    "dataset.DAYS_BIRTH.describe()"
   ]
  },
  {
   "cell_type": "code",
   "execution_count": 13,
   "metadata": {
    "colab": {
     "base_uri": "https://localhost:8080/",
     "height": 480
    },
    "id": "6x_nN8bFoTlS",
    "outputId": "18905432-237b-4a03-a1e8-76a2e12c1a79"
   },
   "outputs": [
    {
     "data": {
      "image/png": "[encoded data removed]",
      "text/plain": [
       "<Figure size 640x480 with 1 Axes>"
      ]
     },
     "metadata": {},
     "output_type": "display_data"
    }
   ],
   "source": [
    "sns.distplot(dataset.DAYS_EMPLOYED)\n",
    "plt.show()"
   ]
  },
  {
   "cell_type": "code",
   "execution_count": 14,
   "metadata": {
    "colab": {
     "base_uri": "https://localhost:8080/"
    },
    "id": "0qaixHKWofba",
    "outputId": "f9b70445-0333-4062-d8f7-6d35021c131f"
   },
   "outputs": [
    {
     "data": {
      "text/plain": [
       "438510"
      ]
     },
     "execution_count": 14,
     "metadata": {},
     "output_type": "execute_result"
    }
   ],
   "source": [
    "dataset.ID.nunique()"
   ]
  },
  {
   "cell_type": "code",
   "execution_count": 15,
   "metadata": {
    "id": "ibTgnnVXd8r3"
   },
   "outputs": [],
   "source": [
    "# Rename columns in the 'new_data' DataFrame for improved readability\n",
    "new_data.rename(columns={'CODE_GENDER':'Gender','FLAG_OWN_CAR':'Car','FLAG_OWN_REALTY':'Reality',\n",
    "                         'CNT_CHILDREN':'ChldNo','AMT_INCOME_TOTAL':'inc',\n",
    "                         'NAME_EDUCATION_TYPE':'edutp','NAME_FAMILY_STATUS':'famtp',\n",
    "                        'NAME_HOUSING_TYPE':'houtp','FLAG_EMAIL':'email',\n",
    "                         'NAME_INCOME_TYPE':'inctp','FLAG_WORK_PHONE':'wkphone',\n",
    "                         'FLAG_PHONE':'phone','CNT_FAM_MEMBERS':'famsize',\n",
    "                        'OCCUPATION_TYPE':'occyp'\n",
    "                        },inplace=True)"
   ]
  },
  {
   "cell_type": "code",
   "execution_count": 25,
   "metadata": {},
   "outputs": [
    {
     "data": {
      "text/html": [
       "<div>\n",
       "<style scoped>\n",
       "    .dataframe tbody tr th:only-of-type {\n",
       "        vertical-align: middle;\n",
       "    }\n",
       "\n",
       "    .dataframe tbody tr th {\n",
       "        vertical-align: top;\n",
       "    }\n",
       "\n",
       "    .dataframe thead th {\n",
       "        text-align: right;\n",
       "    }\n",
       "</style>\n",
       "<table border=\"1\" class=\"dataframe\">\n",
       "  <thead>\n",
       "    <tr style=\"text-align: right;\">\n",
       "      <th></th>\n",
       "      <th>ID</th>\n",
       "      <th>Gender</th>\n",
       "      <th>Car</th>\n",
       "      <th>Reality</th>\n",
       "      <th>ChldNo</th>\n",
       "      <th>inc</th>\n",
       "      <th>inctp</th>\n",
       "      <th>edutp</th>\n",
       "      <th>famtp</th>\n",
       "      <th>houtp</th>\n",
       "      <th>...</th>\n",
       "      <th>DAYS_EMPLOYED</th>\n",
       "      <th>FLAG_MOBIL</th>\n",
       "      <th>wkphone</th>\n",
       "      <th>phone</th>\n",
       "      <th>email</th>\n",
       "      <th>occyp</th>\n",
       "      <th>famsize</th>\n",
       "      <th>begin_month1</th>\n",
       "      <th>dep_value</th>\n",
       "      <th>target</th>\n",
       "    </tr>\n",
       "  </thead>\n",
       "  <tbody>\n",
       "    <tr>\n",
       "      <th>2</th>\n",
       "      <td>5008806</td>\n",
       "      <td>M</td>\n",
       "      <td>Y</td>\n",
       "      <td>Y</td>\n",
       "      <td>0</td>\n",
       "      <td>112500.0</td>\n",
       "      <td>Working</td>\n",
       "      <td>Secondary / secondary special</td>\n",
       "      <td>Married</td>\n",
       "      <td>House / apartment</td>\n",
       "      <td>...</td>\n",
       "      <td>-1134</td>\n",
       "      <td>1</td>\n",
       "      <td>0</td>\n",
       "      <td>0</td>\n",
       "      <td>0</td>\n",
       "      <td>Security staff</td>\n",
       "      <td>2.0</td>\n",
       "      <td>-29.0</td>\n",
       "      <td>No</td>\n",
       "      <td>0</td>\n",
       "    </tr>\n",
       "    <tr>\n",
       "      <th>3</th>\n",
       "      <td>5008808</td>\n",
       "      <td>F</td>\n",
       "      <td>N</td>\n",
       "      <td>Y</td>\n",
       "      <td>0</td>\n",
       "      <td>270000.0</td>\n",
       "      <td>Commercial associate</td>\n",
       "      <td>Secondary / secondary special</td>\n",
       "      <td>Single / not married</td>\n",
       "      <td>House / apartment</td>\n",
       "      <td>...</td>\n",
       "      <td>-3051</td>\n",
       "      <td>1</td>\n",
       "      <td>0</td>\n",
       "      <td>1</td>\n",
       "      <td>1</td>\n",
       "      <td>Sales staff</td>\n",
       "      <td>1.0</td>\n",
       "      <td>-4.0</td>\n",
       "      <td>No</td>\n",
       "      <td>0</td>\n",
       "    </tr>\n",
       "    <tr>\n",
       "      <th>4</th>\n",
       "      <td>5008809</td>\n",
       "      <td>F</td>\n",
       "      <td>N</td>\n",
       "      <td>Y</td>\n",
       "      <td>0</td>\n",
       "      <td>270000.0</td>\n",
       "      <td>Commercial associate</td>\n",
       "      <td>Secondary / secondary special</td>\n",
       "      <td>Single / not married</td>\n",
       "      <td>House / apartment</td>\n",
       "      <td>...</td>\n",
       "      <td>-3051</td>\n",
       "      <td>1</td>\n",
       "      <td>0</td>\n",
       "      <td>1</td>\n",
       "      <td>1</td>\n",
       "      <td>Sales staff</td>\n",
       "      <td>1.0</td>\n",
       "      <td>-26.0</td>\n",
       "      <td>No</td>\n",
       "      <td>0</td>\n",
       "    </tr>\n",
       "    <tr>\n",
       "      <th>5</th>\n",
       "      <td>5008810</td>\n",
       "      <td>F</td>\n",
       "      <td>N</td>\n",
       "      <td>Y</td>\n",
       "      <td>0</td>\n",
       "      <td>270000.0</td>\n",
       "      <td>Commercial associate</td>\n",
       "      <td>Secondary / secondary special</td>\n",
       "      <td>Single / not married</td>\n",
       "      <td>House / apartment</td>\n",
       "      <td>...</td>\n",
       "      <td>-3051</td>\n",
       "      <td>1</td>\n",
       "      <td>0</td>\n",
       "      <td>1</td>\n",
       "      <td>1</td>\n",
       "      <td>Sales staff</td>\n",
       "      <td>1.0</td>\n",
       "      <td>-26.0</td>\n",
       "      <td>No</td>\n",
       "      <td>0</td>\n",
       "    </tr>\n",
       "    <tr>\n",
       "      <th>6</th>\n",
       "      <td>5008811</td>\n",
       "      <td>F</td>\n",
       "      <td>N</td>\n",
       "      <td>Y</td>\n",
       "      <td>0</td>\n",
       "      <td>270000.0</td>\n",
       "      <td>Commercial associate</td>\n",
       "      <td>Secondary / secondary special</td>\n",
       "      <td>Single / not married</td>\n",
       "      <td>House / apartment</td>\n",
       "      <td>...</td>\n",
       "      <td>-3051</td>\n",
       "      <td>1</td>\n",
       "      <td>0</td>\n",
       "      <td>1</td>\n",
       "      <td>1</td>\n",
       "      <td>Sales staff</td>\n",
       "      <td>1.0</td>\n",
       "      <td>-38.0</td>\n",
       "      <td>No</td>\n",
       "      <td>0</td>\n",
       "    </tr>\n",
       "  </tbody>\n",
       "</table>\n",
       "<p>5 rows × 21 columns</p>\n",
       "</div>"
      ],
      "text/plain": [
       "        ID Gender Car Reality  ChldNo       inc                 inctp  \\\n",
       "2  5008806      M   Y       Y       0  112500.0               Working   \n",
       "3  5008808      F   N       Y       0  270000.0  Commercial associate   \n",
       "4  5008809      F   N       Y       0  270000.0  Commercial associate   \n",
       "5  5008810      F   N       Y       0  270000.0  Commercial associate   \n",
       "6  5008811      F   N       Y       0  270000.0  Commercial associate   \n",
       "\n",
       "                           edutp                 famtp              houtp  \\\n",
       "2  Secondary / secondary special               Married  House / apartment   \n",
       "3  Secondary / secondary special  Single / not married  House / apartment   \n",
       "4  Secondary / secondary special  Single / not married  House / apartment   \n",
       "5  Secondary / secondary special  Single / not married  House / apartment   \n",
       "6  Secondary / secondary special  Single / not married  House / apartment   \n",
       "\n",
       "   ...  DAYS_EMPLOYED  FLAG_MOBIL  wkphone  phone  email           occyp  \\\n",
       "2  ...          -1134           1        0      0      0  Security staff   \n",
       "3  ...          -3051           1        0      1      1     Sales staff   \n",
       "4  ...          -3051           1        0      1      1     Sales staff   \n",
       "5  ...          -3051           1        0      1      1     Sales staff   \n",
       "6  ...          -3051           1        0      1      1     Sales staff   \n",
       "\n",
       "  famsize  begin_month1  dep_value target  \n",
       "2     2.0         -29.0         No      0  \n",
       "3     1.0          -4.0         No      0  \n",
       "4     1.0         -26.0         No      0  \n",
       "5     1.0         -26.0         No      0  \n",
       "6     1.0         -38.0         No      0  \n",
       "\n",
       "[5 rows x 21 columns]"
      ]
     },
     "execution_count": 25,
     "metadata": {},
     "output_type": "execute_result"
    }
   ],
   "source": [
    "new_data.head()"
   ]
  },
  {
   "cell_type": "code",
   "execution_count": 26,
   "metadata": {},
   "outputs": [
    {
     "data": {
      "text/plain": [
       "(25134, 21)"
      ]
     },
     "execution_count": 26,
     "metadata": {},
     "output_type": "execute_result"
    }
   ],
   "source": [
    "new_data.shape"
   ]
  },
  {
   "cell_type": "code",
   "execution_count": 29,
   "metadata": {},
   "outputs": [
    {
     "name": "stdout",
     "output_type": "stream",
     "text": [
      "<class 'pandas.core.frame.DataFrame'>\n",
      "Index: 25134 entries, 2 to 36456\n",
      "Data columns (total 21 columns):\n",
      " #   Column         Non-Null Count  Dtype  \n",
      "---  ------         --------------  -----  \n",
      " 0   ID             25134 non-null  int64  \n",
      " 1   Gender         25134 non-null  object \n",
      " 2   Car            25134 non-null  object \n",
      " 3   Reality        25134 non-null  object \n",
      " 4   ChldNo         25134 non-null  int64  \n",
      " 5   inc            25134 non-null  float64\n",
      " 6   inctp          25134 non-null  object \n",
      " 7   edutp          25134 non-null  object \n",
      " 8   famtp          25134 non-null  object \n",
      " 9   houtp          25134 non-null  object \n",
      " 10  DAYS_BIRTH     25134 non-null  int64  \n",
      " 11  DAYS_EMPLOYED  25134 non-null  int64  \n",
      " 12  FLAG_MOBIL     25134 non-null  int64  \n",
      " 13  wkphone        25134 non-null  int64  \n",
      " 14  phone          25134 non-null  int64  \n",
      " 15  email          25134 non-null  int64  \n",
      " 16  occyp          25134 non-null  object \n",
      " 17  famsize        25134 non-null  float64\n",
      " 18  begin_month1   25134 non-null  float64\n",
      " 19  dep_value      25134 non-null  object \n",
      " 20  target         25134 non-null  object \n",
      "dtypes: float64(3), int64(8), object(10)\n",
      "memory usage: 4.2+ MB\n"
     ]
    }
   ],
   "source": [
    "new_data.info()"
   ]
  },
  {
   "cell_type": "code",
   "execution_count": 16,
   "metadata": {
    "id": "rqIeMgCWeMou"
   },
   "outputs": [],
   "source": [
    "# Drop rows with any missing values in the 'new_data' DataFrame\n",
    "new_data.dropna()\n",
    "# Replace 'NULL' values with NaN and then drop rows with any remaining missing values\n",
    "new_data = new_data.mask(new_data == 'NULL').dropna()"
   ]
  },
  {
   "cell_type": "code",
   "execution_count": 17,
   "metadata": {
    "colab": {
     "base_uri": "https://localhost:8080/"
    },
    "id": "ITDNDIsho287",
    "outputId": "c8ea49a7-294a-47f9-a9f8-bd7c081eae79"
   },
   "outputs": [
    {
     "data": {
      "text/plain": [
       "ID               0\n",
       "Gender           0\n",
       "Car              0\n",
       "Reality          0\n",
       "ChldNo           0\n",
       "inc              0\n",
       "inctp            0\n",
       "edutp            0\n",
       "famtp            0\n",
       "houtp            0\n",
       "DAYS_BIRTH       0\n",
       "DAYS_EMPLOYED    0\n",
       "FLAG_MOBIL       0\n",
       "wkphone          0\n",
       "phone            0\n",
       "email            0\n",
       "occyp            0\n",
       "famsize          0\n",
       "begin_month1     0\n",
       "dep_value        0\n",
       "target           0\n",
       "dtype: int64"
      ]
     },
     "execution_count": 17,
     "metadata": {},
     "output_type": "execute_result"
    }
   ],
   "source": [
    "new_data.isna().sum()"
   ]
  },
  {
   "cell_type": "code",
   "execution_count": 18,
   "metadata": {
    "id": "-1av8_hzeWKi"
   },
   "outputs": [],
   "source": [
    "# Create a DataFrame 'ivtable' with a column 'variable' containing the names of columns in 'new_data'\n",
    "ivtable = pd.DataFrame(new_data.columns, columns=['variable'])\n",
    "\n",
    "# Add a column 'IV' to 'ivtable' and initialize it with None\n",
    "ivtable['IV'] = None\n",
    "\n",
    "# List of column names to be excluded from the information value (IV) calculation\n",
    "namelist = ['FLAG_MOBIL', 'begin_month', 'dep_value', 'target', 'ID']\n",
    "\n",
    "# Iterate through the 'namelist' and remove corresponding rows from 'ivtable'\n",
    "for i in namelist:\n",
    "    ivtable.drop(ivtable[ivtable['variable'] == i].index, inplace=True)"
   ]
  },
  {
   "cell_type": "code",
   "execution_count": 19,
   "metadata": {
    "id": "MSqxZr7PehyI"
   },
   "outputs": [],
   "source": [
    "# Calculate information value\n",
    "# Function to calculate Information Value (IV) for a given feature in a dataframe\n",
    "def calc_iv(df, feature, target, pr=False):\n",
    "    lst = []\n",
    "    df[feature] = df[feature].fillna(\"NULL\")\n",
    "\n",
    "    for i in range(df[feature].nunique()):\n",
    "        val = list(df[feature].unique())[i]\n",
    "        lst.append([feature,                                                        # Variable\n",
    "                    val,                                                            # Value\n",
    "                    df[df[feature] == val].count()[feature],                        # All\n",
    "                    df[(df[feature] == val) & (df[target] == 0)].count()[feature],  # Good (think: Fraud == 0)\n",
    "                    df[(df[feature] == val) & (df[target] == 1)].count()[feature]]) # Bad (think: Fraud == 1)\n",
    "\n",
    "    data = pd.DataFrame(lst, columns=['Variable', 'Value', 'All', 'Good', 'Bad'])\n",
    "    data['Share'] = data['All'] / data['All'].sum()\n",
    "    data['Bad Rate'] = data['Bad'] / data['All']\n",
    "    data['Distribution Good'] = (data['All'] - data['Bad']) / (data['All'].sum() - data['Bad'].sum())\n",
    "    data['Distribution Bad'] = data['Bad'] / data['Bad'].sum()\n",
    "    data['WoE'] = np.log(data['Distribution Good'] / data['Distribution Bad'])\n",
    "\n",
    "    data = data.replace({'WoE': {np.inf: 0, -np.inf: 0}})\n",
    "\n",
    "    data['IV'] = data['WoE'] * (data['Distribution Good'] - data['Distribution Bad'])\n",
    "\n",
    "    data = data.sort_values(by=['Variable', 'Value'], ascending=[True, True])\n",
    "    data.index = range(len(data.index))\n",
    "\n",
    "    if pr:\n",
    "        print(data)\n",
    "        print('IV = ', data['IV'].sum())\n",
    "\n",
    "    iv = data['IV'].sum()\n",
    "    print('This variable\\'s IV is:',iv)\n",
    "    print(df[feature].value_counts())\n",
    "    return iv, data"
   ]
  },
  {
   "cell_type": "code",
   "execution_count": 20,
   "metadata": {
    "id": "-_yjRWtHesDL"
   },
   "outputs": [],
   "source": [
    "# Function to convert a categorical feature into dummy variables in a dataframe\n",
    "def convert_dummy(df, feature, rank=0):\n",
    "    dummies = pd.get_dummies(df[feature], prefix=feature)\n",
    "    mode_value = df[feature].value_counts().index[rank]\n",
    "    mode_column = f\"{feature}_{mode_value}\"\n",
    "\n",
    "    # Drop the column corresponding to the mode\n",
    "    dummies.drop([mode_column], axis=1, inplace=True)\n",
    "\n",
    "    # Drop the original feature and join the dummy columns\n",
    "    df.drop([feature], axis=1, inplace=True)\n",
    "    df = pd.concat([df, dummies], axis=1)\n",
    "\n",
    "    return df"
   ]
  },
  {
   "cell_type": "code",
   "execution_count": 21,
   "metadata": {
    "id": "6SrN3X4ofEQB"
   },
   "outputs": [],
   "source": [
    "# Function to create a categorical variable based on binning a numerical column in a dataframe\n",
    "def get_category(df, col, binsnum, labels, qcut = False):\n",
    "    # Perform binning based on quantiles (qcut) or equal-length intervals\n",
    "    if qcut:\n",
    "        localdf = pd.qcut(df[col], q = binsnum, labels = labels) # quantile cut\n",
    "    else:\n",
    "        localdf = pd.cut(df[col], bins = binsnum, labels = labels) # equal-length cut\n",
    "\n",
    "    localdf = pd.DataFrame(localdf)\n",
    "    name = 'gp' + '_' + col\n",
    "    localdf[name] = localdf[col]\n",
    "    df = df.join(localdf[name])\n",
    "    df[name] = df[name].astype(object)\n",
    "    return df"
   ]
  },
  {
   "cell_type": "code",
   "execution_count": 22,
   "metadata": {
    "id": "hJt_J4BTfk2F"
   },
   "outputs": [],
   "source": [
    "# Function to plot a confusion matrix\n",
    "\n",
    "def plot_confusion_matrix(cm, classes,\n",
    "                          normalize=False,\n",
    "                          title='Confusion matrix',\n",
    "                          cmap=plt.cm.Blues):\n",
    "    # Normalize the confusion matrix if specified\n",
    "    if normalize:\n",
    "        cm = cm.astype('float') / cm.sum(axis=1)[:, np.newaxis]\n",
    "\n",
    "    # Print the confusion matrix\n",
    "    print(cm)\n",
    "\n",
    "    # Plot the confusion matrix\n",
    "    plt.imshow(cm, interpolation='nearest', cmap=cmap)\n",
    "    plt.title(title)\n",
    "    plt.colorbar()\n",
    "\n",
    "    # Set tick marks and labels for both axes\n",
    "    tick_marks = np.arange(len(classes))\n",
    "    plt.xticks(tick_marks, classes)\n",
    "    plt.yticks(tick_marks, classes)\n",
    "\n",
    "    # Display the values in each cell of the matrix\n",
    "    fmt = '.2f' if normalize else 'd'\n",
    "    thresh = cm.max() / 2.\n",
    "    for i, j in itertools.product(range(cm.shape[0]), range(cm.shape[1])):\n",
    "        plt.text(j, i, format(cm[i, j], fmt),\n",
    "                 horizontalalignment=\"center\",\n",
    "                 color=\"white\" if cm[i, j] > thresh else \"black\")\n",
    "\n",
    "    # Set labels and adjust layout for better visualization\n",
    "    plt.tight_layout()\n",
    "    plt.ylabel('True label')\n",
    "    plt.xlabel('Predicted label')"
   ]
  },
  {
   "cell_type": "markdown",
   "metadata": {
    "id": "n3ea6xTqf2jv"
   },
   "source": [
    "Is there any correlation between the number of children and applicant has and their income?"
   ]
  },
  {
   "cell_type": "code",
   "execution_count": 23,
   "metadata": {
    "colab": {
     "base_uri": "https://localhost:8080/",
     "height": 622
    },
    "id": "F6kfRG7WfzEW",
    "outputId": "a7ebf821-6523-4c83-d084-ff7664cf0528"
   },
   "outputs": [
    {
     "name": "stdout",
     "output_type": "stream",
     "text": [
      "Correlation Matrix:\n",
      "          ChldNo       inc\n",
      "ChldNo  1.000000 -0.015081\n",
      "inc    -0.015081  1.000000\n"
     ]
    },
    {
     "data": {
      "image/png": "[encoded data removed]",
      "text/plain": [
       "<Figure size 800x600 with 2 Axes>"
      ]
     },
     "metadata": {},
     "output_type": "display_data"
    }
   ],
   "source": [
    "# Combine 'ChldNo' and 'inc' columns for correlation analysis\n",
    "correlation_data = new_data[['ChldNo', 'inc']]\n",
    "\n",
    "# Calculate the correlation matrix\n",
    "correlation_matrix = correlation_data.corr()\n",
    "\n",
    "# Display the correlation matrix\n",
    "print(\"Correlation Matrix:\")\n",
    "print(correlation_matrix)\n",
    "\n",
    "# Visualize the correlation matrix using a heatmap\n",
    "plt.figure(figsize=(8, 6))\n",
    "sns.heatmap(correlation_matrix, annot=True, cmap='coolwarm', fmt='.2f', linewidths=.5)\n",
    "plt.title('Correlation Matrix: Number of Children vs. Income')\n",
    "plt.show()"
   ]
  },
  {
   "cell_type": "code",
   "execution_count": 24,
   "metadata": {
    "colab": {
     "base_uri": "https://localhost:8080/",
     "height": 844
    },
    "id": "B88YzqvigfsN",
    "outputId": "a6031a49-bb8e-470c-8502-dc6c60c19ce9"
   },
   "outputs": [
    {
     "ename": "ValueError",
     "evalue": "could not convert string to float: 'M'",
     "output_type": "error",
     "traceback": [
      "\u001b[0;31m---------------------------------------------------------------------------\u001b[0m",
      "\u001b[0;31mValueError\u001b[0m                                Traceback (most recent call last)",
      "Cell \u001b[0;32mIn[24], line 8\u001b[0m\n\u001b[1;32m      2\u001b[0m \u001b[38;5;28;01mimport\u001b[39;00m \u001b[38;5;21;01mmatplotlib\u001b[39;00m\u001b[38;5;21;01m.\u001b[39;00m\u001b[38;5;21;01mpyplot\u001b[39;00m \u001b[38;5;28;01mas\u001b[39;00m \u001b[38;5;21;01mplt\u001b[39;00m\n\u001b[1;32m      4\u001b[0m \u001b[38;5;66;03m# Assuming 'new_data' is the DataFrame you want to visualize\u001b[39;00m\n\u001b[1;32m      5\u001b[0m \u001b[38;5;66;03m# Replace it with the actual DataFrame you're working with\u001b[39;00m\n\u001b[1;32m      6\u001b[0m \n\u001b[1;32m      7\u001b[0m \u001b[38;5;66;03m# Calculate the correlation matrix\u001b[39;00m\n\u001b[0;32m----> 8\u001b[0m correlation_matrix \u001b[38;5;241m=\u001b[39m new_data\u001b[38;5;241m.\u001b[39mcorr()\n\u001b[1;32m     10\u001b[0m \u001b[38;5;66;03m# Set the style to white with a dark background\u001b[39;00m\n\u001b[1;32m     11\u001b[0m sns\u001b[38;5;241m.\u001b[39mset(style\u001b[38;5;241m=\u001b[39m\u001b[38;5;124m\"\u001b[39m\u001b[38;5;124mwhite\u001b[39m\u001b[38;5;124m\"\u001b[39m, font_scale\u001b[38;5;241m=\u001b[39m\u001b[38;5;241m1.2\u001b[39m)\n",
      "File \u001b[0;32m~/anaconda3/lib/python3.11/site-packages/pandas/core/frame.py:10707\u001b[0m, in \u001b[0;36mDataFrame.corr\u001b[0;34m(self, method, min_periods, numeric_only)\u001b[0m\n\u001b[1;32m  10705\u001b[0m cols \u001b[38;5;241m=\u001b[39m data\u001b[38;5;241m.\u001b[39mcolumns\n\u001b[1;32m  10706\u001b[0m idx \u001b[38;5;241m=\u001b[39m cols\u001b[38;5;241m.\u001b[39mcopy()\n\u001b[0;32m> 10707\u001b[0m mat \u001b[38;5;241m=\u001b[39m data\u001b[38;5;241m.\u001b[39mto_numpy(dtype\u001b[38;5;241m=\u001b[39m\u001b[38;5;28mfloat\u001b[39m, na_value\u001b[38;5;241m=\u001b[39mnp\u001b[38;5;241m.\u001b[39mnan, copy\u001b[38;5;241m=\u001b[39m\u001b[38;5;28;01mFalse\u001b[39;00m)\n\u001b[1;32m  10709\u001b[0m \u001b[38;5;28;01mif\u001b[39;00m method \u001b[38;5;241m==\u001b[39m \u001b[38;5;124m\"\u001b[39m\u001b[38;5;124mpearson\u001b[39m\u001b[38;5;124m\"\u001b[39m:\n\u001b[1;32m  10710\u001b[0m     correl \u001b[38;5;241m=\u001b[39m libalgos\u001b[38;5;241m.\u001b[39mnancorr(mat, minp\u001b[38;5;241m=\u001b[39mmin_periods)\n",
      "File \u001b[0;32m~/anaconda3/lib/python3.11/site-packages/pandas/core/frame.py:1892\u001b[0m, in \u001b[0;36mDataFrame.to_numpy\u001b[0;34m(self, dtype, copy, na_value)\u001b[0m\n\u001b[1;32m   1890\u001b[0m \u001b[38;5;28;01mif\u001b[39;00m dtype \u001b[38;5;129;01mis\u001b[39;00m \u001b[38;5;129;01mnot\u001b[39;00m \u001b[38;5;28;01mNone\u001b[39;00m:\n\u001b[1;32m   1891\u001b[0m     dtype \u001b[38;5;241m=\u001b[39m np\u001b[38;5;241m.\u001b[39mdtype(dtype)\n\u001b[0;32m-> 1892\u001b[0m result \u001b[38;5;241m=\u001b[39m \u001b[38;5;28mself\u001b[39m\u001b[38;5;241m.\u001b[39m_mgr\u001b[38;5;241m.\u001b[39mas_array(dtype\u001b[38;5;241m=\u001b[39mdtype, copy\u001b[38;5;241m=\u001b[39mcopy, na_value\u001b[38;5;241m=\u001b[39mna_value)\n\u001b[1;32m   1893\u001b[0m \u001b[38;5;28;01mif\u001b[39;00m result\u001b[38;5;241m.\u001b[39mdtype \u001b[38;5;129;01mis\u001b[39;00m \u001b[38;5;129;01mnot\u001b[39;00m dtype:\n\u001b[1;32m   1894\u001b[0m     result \u001b[38;5;241m=\u001b[39m np\u001b[38;5;241m.\u001b[39marray(result, dtype\u001b[38;5;241m=\u001b[39mdtype, copy\u001b[38;5;241m=\u001b[39m\u001b[38;5;28;01mFalse\u001b[39;00m)\n",
      "File \u001b[0;32m~/anaconda3/lib/python3.11/site-packages/pandas/core/internals/managers.py:1656\u001b[0m, in \u001b[0;36mBlockManager.as_array\u001b[0;34m(self, dtype, copy, na_value)\u001b[0m\n\u001b[1;32m   1654\u001b[0m         arr\u001b[38;5;241m.\u001b[39mflags\u001b[38;5;241m.\u001b[39mwriteable \u001b[38;5;241m=\u001b[39m \u001b[38;5;28;01mFalse\u001b[39;00m\n\u001b[1;32m   1655\u001b[0m \u001b[38;5;28;01melse\u001b[39;00m:\n\u001b[0;32m-> 1656\u001b[0m     arr \u001b[38;5;241m=\u001b[39m \u001b[38;5;28mself\u001b[39m\u001b[38;5;241m.\u001b[39m_interleave(dtype\u001b[38;5;241m=\u001b[39mdtype, na_value\u001b[38;5;241m=\u001b[39mna_value)\n\u001b[1;32m   1657\u001b[0m     \u001b[38;5;66;03m# The underlying data was copied within _interleave, so no need\u001b[39;00m\n\u001b[1;32m   1658\u001b[0m     \u001b[38;5;66;03m# to further copy if copy=True or setting na_value\u001b[39;00m\n\u001b[1;32m   1660\u001b[0m \u001b[38;5;28;01mif\u001b[39;00m na_value \u001b[38;5;129;01mis\u001b[39;00m lib\u001b[38;5;241m.\u001b[39mno_default:\n",
      "File \u001b[0;32m~/anaconda3/lib/python3.11/site-packages/pandas/core/internals/managers.py:1715\u001b[0m, in \u001b[0;36mBlockManager._interleave\u001b[0;34m(self, dtype, na_value)\u001b[0m\n\u001b[1;32m   1713\u001b[0m     \u001b[38;5;28;01melse\u001b[39;00m:\n\u001b[1;32m   1714\u001b[0m         arr \u001b[38;5;241m=\u001b[39m blk\u001b[38;5;241m.\u001b[39mget_values(dtype)\n\u001b[0;32m-> 1715\u001b[0m     result[rl\u001b[38;5;241m.\u001b[39mindexer] \u001b[38;5;241m=\u001b[39m arr\n\u001b[1;32m   1716\u001b[0m     itemmask[rl\u001b[38;5;241m.\u001b[39mindexer] \u001b[38;5;241m=\u001b[39m \u001b[38;5;241m1\u001b[39m\n\u001b[1;32m   1718\u001b[0m \u001b[38;5;28;01mif\u001b[39;00m \u001b[38;5;129;01mnot\u001b[39;00m itemmask\u001b[38;5;241m.\u001b[39mall():\n",
      "\u001b[0;31mValueError\u001b[0m: could not convert string to float: 'M'"
     ]
    }
   ],
   "source": [
    "# Calculate the correlation matrix\n",
    "correlation_matrix = new_data.corr()\n",
    "\n",
    "# Set the style to white with a dark background\n",
    "sns.set(style=\"white\", font_scale=1.2)\n",
    "\n",
    "# Create a diverging colormap\n",
    "cmap = sns.diverging_palette(220, 20, as_cmap=True)\n",
    "\n",
    "# Plot the correlation matrix as a heatmap\n",
    "plt.figure(figsize=(10, 8))\n",
    "sns.heatmap(correlation_matrix, cmap=cmap, annot=True, fmt=\".2f\", linewidths=.5)\n",
    "plt.title('Correlation Map with Diverging Colormap')\n",
    "plt.show()"
   ]
  },
  {
   "cell_type": "markdown",
   "metadata": {
    "id": "qjOdOfkdibcC"
   },
   "source": [
    "Are there any patterns in the employment status of credit card applicants?"
   ]
  },
  {
   "cell_type": "code",
   "execution_count": null,
   "metadata": {
    "colab": {
     "base_uri": "https://localhost:8080/",
     "height": 699
    },
    "id": "tQacXwAng5uR",
    "outputId": "7b0472aa-22ab-4459-a757-f1014bd3d15a"
   },
   "outputs": [],
   "source": [
    "# Count the occurrences of each employment status\n",
    "employment_counts = new_data['inctp'].value_counts()\n",
    "\n",
    "# Display the counts\n",
    "print(\"Employment Status Distribution:\")\n",
    "print(employment_counts)\n",
    "\n",
    "# Visualize the distribution using a bar plot\n",
    "plt.figure(figsize=(10, 6))\n",
    "sns.countplot(x='inctp', data=new_data, palette='viridis')\n",
    "plt.title('Employment Status Distribution of Credit Card Applicants')\n",
    "plt.xlabel('Employment Status')\n",
    "plt.ylabel('Count')\n",
    "plt.show()"
   ]
  },
  {
   "cell_type": "code",
   "execution_count": null,
   "metadata": {
    "colab": {
     "base_uri": "https://localhost:8080/",
     "height": 233
    },
    "id": "leQdViGIieGu",
    "outputId": "24077965-f041-4b60-8e5d-ebdfcbd1d643"
   },
   "outputs": [],
   "source": [
    "# Replace categorical values in the 'Gender' column with numerical values\n",
    "new_data['Gender'] = new_data['Gender'].replace(['F', 'M'], [0, 1])\n",
    "\n",
    "# Print the counts of unique values in the 'Gender' column\n",
    "print(new_data['Gender'].value_counts())\n",
    "\n",
    "# Calculate Information Value (IV) for the 'Gender' variable and update the IV table\n",
    "iv, data = calc_iv(new_data, 'Gender', 'target')\n",
    "ivtable.loc[ivtable['variable'] == 'Gender', 'IV'] = iv\n",
    "\n",
    "# Display the first few rows of the data DataFrame\n",
    "data.head()"
   ]
  },
  {
   "cell_type": "code",
   "execution_count": null,
   "metadata": {
    "colab": {
     "base_uri": "https://localhost:8080/",
     "height": 233
    },
    "id": "CHUy9xFQip-3",
    "outputId": "082a431d-abba-4b60-c3a2-89b24033b549"
   },
   "outputs": [],
   "source": [
    "# Mapping 'N' to 0 and 'Y' to 1 in 'Car' column\n",
    "new_data['Car'] = new_data['Car'].map({'N': 0, 'Y': 1})\n",
    "\n",
    "# Print the value counts after mapping\n",
    "print(new_data['Car'].value_counts())\n",
    "\n",
    "# Calculate IV for 'Car' and update the ivtable\n",
    "iv, data = calc_iv(new_data, 'Car', 'target')\n",
    "ivtable.loc[ivtable['variable'] == 'Car', 'IV'] = iv\n",
    "\n",
    "# Display the first few rows of the calculated data\n",
    "data.head()"
   ]
  },
  {
   "cell_type": "code",
   "execution_count": null,
   "metadata": {
    "colab": {
     "base_uri": "https://localhost:8080/",
     "height": 233
    },
    "id": "78N1tqPIi2hN",
    "outputId": "cadc64b4-f59e-42e9-fd44-e28cbd85af1d"
   },
   "outputs": [],
   "source": [
    "# Mapping 'N' to 0 and 'Y' to 1 in 'Reality' column\n",
    "new_data['Reality'] = new_data['Reality'].map({'N': 0, 'Y': 1})\n",
    "\n",
    "# Print the value counts after mapping\n",
    "print(new_data['Reality'].value_counts())\n",
    "\n",
    "# Calculate IV for 'Reality' and update the ivtable\n",
    "iv, data = calc_iv(new_data, 'Reality', 'target')\n",
    "ivtable.loc[ivtable['variable'] == 'Reality', 'IV'] = iv\n",
    "\n",
    "# Display the first few rows of the calculated data\n",
    "data.head()"
   ]
  },
  {
   "cell_type": "code",
   "execution_count": null,
   "metadata": {
    "colab": {
     "base_uri": "https://localhost:8080/",
     "height": 233
    },
    "id": "y_jx2wH6i4xL",
    "outputId": "8293447f-dd17-43ee-fa83-8e6c66da5f70"
   },
   "outputs": [],
   "source": [
    "# Convert 'phone' column to string\n",
    "new_data['phone'] = new_data['phone'].astype(str)\n",
    "\n",
    "# Print the value counts after converting to string\n",
    "print(new_data['phone'].value_counts(normalize=True, sort=False))\n",
    "\n",
    "# Drop rows where 'phone' is 'nan'\n",
    "new_data.drop(new_data[new_data['phone'] == 'nan'].index, inplace=True)\n",
    "\n",
    "# Calculate IV for 'phone' and update the ivtable\n",
    "iv, data = calc_iv(new_data, 'phone', 'target')\n",
    "ivtable.loc[ivtable['variable'] == 'phone', 'IV'] = iv\n",
    "\n",
    "# Display the first few rows of the calculated data\n",
    "data.head()"
   ]
  },
  {
   "cell_type": "code",
   "execution_count": null,
   "metadata": {
    "colab": {
     "base_uri": "https://localhost:8080/",
     "height": 233
    },
    "id": "WgBYvt4Ki6_m",
    "outputId": "66e6549e-5023-4b5b-a33b-7e34d6433230"
   },
   "outputs": [],
   "source": [
    "# Print the value counts for 'email'\n",
    "print(new_data['email'].value_counts(normalize=True, sort=False))\n",
    "\n",
    "# Convert 'email' column to string\n",
    "new_data['email'] = new_data['email'].astype(str)\n",
    "\n",
    "# Calculate IV for 'email' and update the ivtable\n",
    "iv, data = calc_iv(new_data, 'email', 'target')\n",
    "ivtable.loc[ivtable['variable'] == 'email', 'IV'] = iv\n",
    "\n",
    "# Display the first few rows of the calculated data\n",
    "data.head()\n"
   ]
  },
  {
   "cell_type": "code",
   "execution_count": null,
   "metadata": {
    "colab": {
     "base_uri": "https://localhost:8080/",
     "height": 181
    },
    "id": "xzYrb_BMi9Nw",
    "outputId": "c0c8dbf1-633e-488d-afd5-d6e5e1f1f61a"
   },
   "outputs": [],
   "source": [
    "# Convert 'wkphone' column to string\n",
    "new_data['wkphone'] = new_data['wkphone'].astype(str)\n",
    "\n",
    "# Calculate IV for 'wkphone' and update the ivtable\n",
    "iv, data = calc_iv(new_data, 'wkphone', 'target')\n",
    "\n",
    "# Drop rows where 'wkphone' is 'nan'\n",
    "new_data.drop(new_data[new_data['wkphone'] == 'nan'].index, inplace=True)\n",
    "\n",
    "# Update IV in ivtable\n",
    "ivtable.loc[ivtable['variable'] == 'wkphone', 'IV'] = iv\n",
    "\n",
    "# Display the first few rows of the calculated data\n",
    "data.head()"
   ]
  },
  {
   "cell_type": "code",
   "execution_count": null,
   "metadata": {
    "colab": {
     "base_uri": "https://localhost:8080/"
    },
    "id": "b_L7z6cLi_SS",
    "outputId": "1797f382-c8c1-4505-e7b6-7fdaef8ee09a"
   },
   "outputs": [],
   "source": [
    "# Update 'ChldNo' values based on the condition\n",
    "new_data['ChldNo'] = np.where(new_data['ChldNo'] >= 2, '2More', new_data['ChldNo'])\n",
    "\n",
    "# Print the value counts for 'ChldNo'\n",
    "print(new_data['ChldNo'].value_counts(sort=False))"
   ]
  },
  {
   "cell_type": "code",
   "execution_count": null,
   "metadata": {
    "colab": {
     "base_uri": "https://localhost:8080/",
     "height": 230
    },
    "id": "s5bpOkXvjBbx",
    "outputId": "5707b567-44dd-412f-d402-4df87cf5afd5"
   },
   "outputs": [],
   "source": [
    "# Calculate IV for 'ChldNo' and update the ivtable\n",
    "iv, data = calc_iv(new_data, 'ChldNo', 'target')\n",
    "ivtable.loc[ivtable['variable'] == 'ChldNo', 'IV'] = iv\n",
    "\n",
    "# Display the first few rows of the calculated data\n",
    "data.head()"
   ]
  },
  {
   "cell_type": "code",
   "execution_count": null,
   "metadata": {
    "id": "SEPvZPZEjDqs"
   },
   "outputs": [],
   "source": [
    "new_data = convert_dummy(new_data, 'ChldNo')"
   ]
  },
  {
   "cell_type": "code",
   "execution_count": null,
   "metadata": {
    "colab": {
     "base_uri": "https://localhost:8080/",
     "height": 645
    },
    "id": "0te7gzaQjGkS",
    "outputId": "72dc4d60-49ef-4505-88f5-2435de7c659c"
   },
   "outputs": [],
   "source": [
    "# Convert 'inc' column to object type\n",
    "new_data['inc'] = new_data['inc'].astype(object)\n",
    "\n",
    "# Scale 'inc' values by dividing by 10000\n",
    "new_data['inc'] /= 10000\n",
    "\n",
    "# Print the value counts for 'inc' in bins\n",
    "print(new_data['inc'].value_counts(bins=10, sort=False))\n",
    "\n",
    "# Plot a histogram for 'inc'\n",
    "new_data['inc'].plot(kind='hist', bins=50, density=True)"
   ]
  },
  {
   "cell_type": "code",
   "execution_count": null,
   "metadata": {
    "colab": {
     "base_uri": "https://localhost:8080/",
     "height": 645
    },
    "id": "YgSdsO-tjIqg",
    "outputId": "c94839de-31ab-4545-8c68-488c31a41b5d"
   },
   "outputs": [],
   "source": [
    "# Calculate 'Age' based on 'DAYS_BIRTH' and negate the result\n",
    "new_data['Age'] = -(new_data['DAYS_BIRTH'] // 365)\n",
    "\n",
    "# Print the value counts for 'Age' in bins\n",
    "print(new_data['Age'].value_counts(bins=10, normalize=True, sort=False))\n",
    "\n",
    "# Plot a histogram for 'Age'\n",
    "new_data['Age'].plot(kind='hist', bins=20, density=True)"
   ]
  },
  {
   "cell_type": "markdown",
   "metadata": {
    "id": "Ivqm7LeijPGf"
   },
   "source": [
    "How does age relate to the likelihood of credit card approval?"
   ]
  },
  {
   "cell_type": "code",
   "execution_count": null,
   "metadata": {
    "colab": {
     "base_uri": "https://localhost:8080/",
     "height": 732
    },
    "id": "8gkC7Vb0jMoM",
    "outputId": "0e4d7376-1f6b-4218-a8fd-ef52634c9c9c"
   },
   "outputs": [],
   "source": [
    "# Visualize the relationship between age and credit card approval\n",
    "plt.figure(figsize=(12, 8))\n",
    "sns.boxplot(x='target', y='Age', data=new_data, palette='Set2')\n",
    "plt.title('Age Distribution by Credit Card Approval')\n",
    "plt.xlabel('Credit Card Approval (0: No, 1: Yes)')\n",
    "plt.ylabel('Age')\n",
    "plt.show()"
   ]
  },
  {
   "cell_type": "markdown",
   "metadata": {
    "id": "B39L9qjkjVpa"
   },
   "source": [
    "Is there a significant difference in income between car owners and non-car owners?"
   ]
  },
  {
   "cell_type": "code",
   "execution_count": null,
   "metadata": {
    "colab": {
     "base_uri": "https://localhost:8080/"
    },
    "id": "syff66-ejSEx",
    "outputId": "891ed973-e356-4c0b-d9de-549e2f5223dd"
   },
   "outputs": [],
   "source": [
    "from scipy.stats import ttest_ind\n",
    "\n",
    "# Convert 'inc' column to numeric data type\n",
    "new_data['inc'] = pd.to_numeric(new_data['inc'], errors='coerce')\n",
    "\n",
    "# Separate data for car owners and non-car owners\n",
    "car_owners_income = new_data.loc[new_data['Car'] == 1, 'inc']\n",
    "non_car_owners_income = new_data.loc[new_data['Car'] == 0, 'inc']\n",
    "\n",
    "# Perform an independent t-test\n",
    "t_statistic, p_value = ttest_ind(car_owners_income, non_car_owners_income, equal_var=False)\n",
    "\n",
    "# Display the results\n",
    "print(f\"T-statistic: {t_statistic}\")\n",
    "print(f\"P-value: {p_value}\")\n",
    "\n",
    "# Set significance level\n",
    "alpha = 0.05\n",
    "\n",
    "# Check for significance\n",
    "if p_value < alpha:\n",
    "    print(\"There is a significant difference in income between car owners and non-car owners.\")\n",
    "else:\n",
    "    print(\"There is no significant difference in income between car owners and non-car owners.\")\n"
   ]
  },
  {
   "cell_type": "markdown",
   "metadata": {
    "id": "sHb2RfP0jcDA"
   },
   "source": [
    "Do people with different education levels have varying rates of credit card approval?"
   ]
  },
  {
   "cell_type": "code",
   "execution_count": null,
   "metadata": {
    "colab": {
     "base_uri": "https://localhost:8080/"
    },
    "id": "tDMsBDmxjY0j",
    "outputId": "3e565b35-c879-45b1-f354-42b3387ac1cf"
   },
   "outputs": [],
   "source": [
    "from scipy.stats import chi2_contingency\n",
    "\n",
    "# Create a contingency table\n",
    "contingency_table = pd.crosstab(new_data['edutp'], new_data['target'])\n",
    "\n",
    "# Perform a chi-squared test\n",
    "chi2_stat, p_value, dof, expected = chi2_contingency(contingency_table)\n",
    "\n",
    "# Display the results\n",
    "print(f\"Chi-squared statistic: {chi2_stat}\")\n",
    "print(f\"P-value: {p_value}\")\n",
    "\n",
    "# Set significance level\n",
    "alpha = 0.05\n",
    "\n",
    "# Check for significance\n",
    "if p_value < alpha:\n",
    "    print(\"There is a significant relationship between education level and credit card approval.\")\n",
    "else:\n",
    "    print(\"There is no significant relationship between education level and credit card approval.\")\n"
   ]
  },
  {
   "cell_type": "code",
   "execution_count": null,
   "metadata": {
    "colab": {
     "base_uri": "https://localhost:8080/",
     "height": 327
    },
    "id": "zE-S8iZTjfku",
    "outputId": "b97a6caa-9c96-40e9-813c-c875f7ba9d61"
   },
   "outputs": [],
   "source": [
    "# Create a new category column 'gp_Age' using get_category\n",
    "new_data = get_category(new_data, 'Age', 5, [\"lowest\", \"low\", \"medium\", \"high\", \"highest\"])\n",
    "\n",
    "# Calculate IV for 'gp_Age' and update the ivtable\n",
    "iv, data = calc_iv(new_data, 'gp_Age', 'target')\n",
    "ivtable.loc[ivtable['variable'] == 'DAYS_BIRTH', 'IV'] = iv\n",
    "\n",
    "# Display the first few rows of the calculated data\n",
    "data.head()"
   ]
  },
  {
   "cell_type": "code",
   "execution_count": null,
   "metadata": {
    "id": "SbX6itkIjhuQ"
   },
   "outputs": [],
   "source": [
    "new_data = convert_dummy(new_data, 'gp_Age')"
   ]
  },
  {
   "cell_type": "code",
   "execution_count": null,
   "metadata": {
    "colab": {
     "base_uri": "https://localhost:8080/",
     "height": 454
    },
    "id": "AIp6HtTKjtHY",
    "outputId": "3ea8ff0f-ea65-4c9b-f861-739beb3a12af"
   },
   "outputs": [],
   "source": [
    "# Calculate 'worktm' based on 'DAYS_EMPLOYED' and replace negative values with NaN\n",
    "new_data['worktm'] = -(new_data['DAYS_EMPLOYED']) // 365\n",
    "new_data.loc[new_data['worktm'] < 0, 'worktm'] = np.nan\n",
    "\n",
    "# Replace NaN values in 'worktm' with mean\n",
    "new_data['worktm'].fillna(new_data['worktm'].mean(), inplace=True)\n",
    "\n",
    "# Plot a histogram for 'worktm'\n",
    "new_data['worktm'].plot(kind='hist', bins=20, density=True)"
   ]
  },
  {
   "cell_type": "code",
   "execution_count": null,
   "metadata": {
    "colab": {
     "base_uri": "https://localhost:8080/",
     "height": 327
    },
    "id": "YhvceQknjvHw",
    "outputId": "cf77e722-9973-4124-fab5-746d3757a2b7"
   },
   "outputs": [],
   "source": [
    "# Create a new category column 'gp_worktm' using get_category\n",
    "new_data = get_category(new_data, 'worktm', 5, [\"lowest\", \"low\", \"medium\", \"high\", \"highest\"])\n",
    "\n",
    "# Calculate IV for 'gp_worktm' and update the ivtable\n",
    "iv, data = calc_iv(new_data, 'gp_worktm', 'target')\n",
    "ivtable.loc[ivtable['variable'] == 'DAYS_EMPLOYED', 'IV'] = iv\n",
    "\n",
    "# Display the first few rows of the calculated data\n",
    "data.head()"
   ]
  },
  {
   "cell_type": "code",
   "execution_count": null,
   "metadata": {
    "id": "DeNslNk3jzUF"
   },
   "outputs": [],
   "source": [
    "new_data = convert_dummy(new_data, 'gp_worktm')"
   ]
  },
  {
   "cell_type": "code",
   "execution_count": null,
   "metadata": {
    "colab": {
     "base_uri": "https://localhost:8080/"
    },
    "id": "QAgn4YSLj1pe",
    "outputId": "cb8daddc-ef80-49ca-8921-b6cdde4201c8"
   },
   "outputs": [],
   "source": [
    "# Print the value counts for 'famsize'\n",
    "print(new_data['famsize'].value_counts(sort=False))"
   ]
  },
  {
   "cell_type": "code",
   "execution_count": null,
   "metadata": {
    "colab": {
     "base_uri": "https://localhost:8080/",
     "height": 230
    },
    "id": "0KFDqcO8j3gb",
    "outputId": "08b18ef7-eadf-4d16-a5a1-24d31e9debef"
   },
   "outputs": [],
   "source": [
    "# Convert 'famsize' to int\n",
    "new_data['famsize'] = new_data['famsize'].astype(int)\n",
    "\n",
    "# Create a new category column 'famsizegp'\n",
    "new_data['famsizegp'] = new_data['famsize'].astype(object)\n",
    "new_data.loc[new_data['famsizegp'] >= 3, 'famsizegp'] = '3more'\n",
    "\n",
    "# Calculate IV for 'famsizegp' and update the ivtable\n",
    "iv, data = calc_iv(new_data, 'famsizegp', 'target')\n",
    "ivtable.loc[ivtable['variable'] == 'famsize', 'IV'] = iv\n",
    "\n",
    "# Display the first few rows of the calculated data\n",
    "data.head()"
   ]
  },
  {
   "cell_type": "code",
   "execution_count": null,
   "metadata": {
    "id": "zPZDJoRZj51D"
   },
   "outputs": [],
   "source": [
    "new_data = convert_dummy(new_data, 'famsizegp')"
   ]
  },
  {
   "cell_type": "code",
   "execution_count": null,
   "metadata": {
    "colab": {
     "base_uri": "https://localhost:8080/",
     "height": 438
    },
    "id": "HDh5Gj9tj8Oh",
    "outputId": "03f9525e-3ff0-438a-e4f9-038a8ad66ecd"
   },
   "outputs": [],
   "source": [
    "# Print the value counts for 'inctp'\n",
    "print(new_data['inctp'].value_counts(sort=False))\n",
    "\n",
    "# Print the normalized value counts for 'inctp'\n",
    "print(new_data['inctp'].value_counts(normalize=True, sort=False))\n",
    "\n",
    "# Replace values in 'inctp'\n",
    "new_data['inctp'].replace({'Pensioner': 'State servant', 'Student': 'State servant'}, inplace=True)\n",
    "\n",
    "# Calculate IV for 'inctp' and update the ivtable\n",
    "iv, data = calc_iv(new_data, 'inctp', 'target')\n",
    "ivtable.loc[ivtable['variable'] == 'inctp', 'IV'] = iv\n",
    "\n",
    "# Display the first few rows of the calculated data\n",
    "data.head()"
   ]
  },
  {
   "cell_type": "code",
   "execution_count": null,
   "metadata": {
    "id": "aqrWJu8wj-Ir"
   },
   "outputs": [],
   "source": [
    "new_data = convert_dummy(new_data, 'inctp')"
   ]
  },
  {
   "cell_type": "code",
   "execution_count": null,
   "metadata": {
    "colab": {
     "base_uri": "https://localhost:8080/",
     "height": 299
    },
    "id": "DNfYLuvxkA80",
    "outputId": "b6324157-28f5-4eaa-ef77-0b715478b0fe"
   },
   "outputs": [],
   "source": [
    "# Define mappings for 'occyp'\n",
    "occyp_mapping = {\n",
    "    'Cleaning staff': 'Laborwk',\n",
    "    'Cooking staff': 'Laborwk',\n",
    "    'Drivers': 'Laborwk',\n",
    "    'Laborers': 'Laborwk',\n",
    "    'Low-skill Laborers': 'Laborwk',\n",
    "    'Security staff': 'Laborwk',\n",
    "    'Waiters/barmen staff': 'Laborwk',\n",
    "    'Accountants': 'officewk',\n",
    "    'Core staff': 'officewk',\n",
    "    'HR staff': 'officewk',\n",
    "    'Medicine staff': 'officewk',\n",
    "    'Private service staff': 'officewk',\n",
    "    'Realty agents': 'officewk',\n",
    "    'Sales staff': 'officewk',\n",
    "    'Secretaries': 'officewk',\n",
    "    'Managers': 'hightecwk',\n",
    "    'High skill tech staff': 'hightecwk',\n",
    "    'IT staff': 'hightecwk'\n",
    "}\n",
    "\n",
    "# Map values in 'occyp' based on the defined mapping\n",
    "new_data['occyp'] = new_data['occyp'].map(occyp_mapping)\n",
    "\n",
    "# Print the value counts for 'occyp'\n",
    "print(new_data['occyp'].value_counts())\n",
    "\n",
    "# Calculate IV for 'occyp' and update the ivtable\n",
    "iv, data = calc_iv(new_data, 'occyp', 'target')\n",
    "ivtable.loc[ivtable['variable'] == 'occyp', 'IV'] = iv\n",
    "\n",
    "# Display the first few rows of the calculated data\n",
    "data.head()\n"
   ]
  },
  {
   "cell_type": "code",
   "execution_count": null,
   "metadata": {
    "id": "Bu7Sgda9kCts"
   },
   "outputs": [],
   "source": [
    "new_data = convert_dummy(new_data, 'occyp')"
   ]
  },
  {
   "cell_type": "code",
   "execution_count": null,
   "metadata": {
    "colab": {
     "base_uri": "https://localhost:8080/",
     "height": 345
    },
    "id": "Fq0Zu9trkGNO",
    "outputId": "1cd46e1b-2247-4d8e-cee2-eea363fe3a57"
   },
   "outputs": [],
   "source": [
    "# Calculate IV for 'houtp' and update the ivtable\n",
    "iv, data = calc_iv(new_data, 'houtp', 'target')\n",
    "ivtable.loc[ivtable['variable'] == 'houtp', 'IV'] = iv\n",
    "\n",
    "# Display the first few rows of the calculated data\n",
    "data.head()"
   ]
  },
  {
   "cell_type": "code",
   "execution_count": null,
   "metadata": {
    "id": "J2Z3ZkjKkIDh"
   },
   "outputs": [],
   "source": [
    "new_data = convert_dummy(new_data, 'houtp')"
   ]
  },
  {
   "cell_type": "code",
   "execution_count": null,
   "metadata": {
    "colab": {
     "base_uri": "https://localhost:8080/",
     "height": 279
    },
    "id": "JB2ntPShkKPr",
    "outputId": "3fa7c36d-f850-4e25-dabc-55e0dc64aaf6"
   },
   "outputs": [],
   "source": [
    "# Replace values in 'edutp'\n",
    "new_data['edutp'].replace({'Academic degree': 'Higher education'}, inplace=True)\n",
    "\n",
    "# Calculate IV for 'edutp' and update the ivtable\n",
    "iv, data = calc_iv(new_data, 'edutp', 'target')\n",
    "ivtable.loc[ivtable['variable'] == 'edutp', 'IV'] = iv\n",
    "\n",
    "# Display the first few rows of the calculated data\n",
    "data.head()"
   ]
  },
  {
   "cell_type": "code",
   "execution_count": null,
   "metadata": {
    "id": "Jnb2nMmEkNZ-"
   },
   "outputs": [],
   "source": [
    "new_data = convert_dummy(new_data, 'edutp')"
   ]
  },
  {
   "cell_type": "code",
   "execution_count": null,
   "metadata": {
    "colab": {
     "base_uri": "https://localhost:8080/"
    },
    "id": "EaJUseOgkUoH",
    "outputId": "81226827-d8f6-4229-f544-bef0d78d011f"
   },
   "outputs": [],
   "source": [
    "# Print the normalized value counts for 'famtp'\n",
    "print(new_data['famtp'].value_counts(normalize=True, sort=False))"
   ]
  },
  {
   "cell_type": "code",
   "execution_count": null,
   "metadata": {
    "colab": {
     "base_uri": "https://localhost:8080/",
     "height": 327
    },
    "id": "z28Ol1sukWre",
    "outputId": "eae93556-9b88-41bf-8d70-037a2a0798bd"
   },
   "outputs": [],
   "source": [
    "# Calculate IV for 'famtp' and update the ivtable\n",
    "iv, data = calc_iv(new_data, 'famtp', 'target')\n",
    "ivtable.loc[ivtable['variable'] == 'famtp', 'IV'] = iv\n",
    "\n",
    "# Display the first few rows of the calculated data\n",
    "data.head()"
   ]
  },
  {
   "cell_type": "code",
   "execution_count": null,
   "metadata": {
    "id": "VD_WC2Z1kY78"
   },
   "outputs": [],
   "source": [
    "new_data = convert_dummy(new_data, 'famtp')"
   ]
  },
  {
   "cell_type": "code",
   "execution_count": null,
   "metadata": {
    "colab": {
     "base_uri": "https://localhost:8080/",
     "height": 582
    },
    "id": "SOhnuDMrkbJs",
    "outputId": "060b1d86-6edd-4a16-d554-9265c65df92c"
   },
   "outputs": [],
   "source": [
    "# Sort ivtable by 'IV' in descending order\n",
    "ivtable = ivtable.sort_values(by='IV', ascending=False)\n",
    "\n",
    "# Rename specific variables in the 'variable' column\n",
    "rename_mapping = {'DAYS_BIRTH': 'agegp', 'DAYS_EMPLOYED': 'worktmgp', 'inc': 'incgp'}\n",
    "ivtable['variable'] = ivtable['variable'].replace(rename_mapping)\n",
    "\n",
    "# Display the updated ivtable\n",
    "ivtable"
   ]
  },
  {
   "cell_type": "code",
   "execution_count": null,
   "metadata": {
    "colab": {
     "base_uri": "https://localhost:8080/"
    },
    "id": "pbN5grbrkdNR",
    "outputId": "e0e26b38-191c-48de-d989-054d04af0223"
   },
   "outputs": [],
   "source": [
    "# Print the columns of the DataFrame\n",
    "print(new_data.columns)"
   ]
  },
  {
   "cell_type": "code",
   "execution_count": null,
   "metadata": {
    "id": "uDeRi6GRkfbr"
   },
   "outputs": [],
   "source": [
    "# Define the target variable Y and features X\n",
    "target_variable = 'target'\n",
    "feature_columns = ['ID', 'Gender', 'Reality', 'ChldNo_1', 'ChldNo_2More', 'wkphone',\n",
    "                    'gp_Age_high', 'gp_Age_highest', 'gp_Age_low', 'gp_Age_lowest',\n",
    "                    'gp_worktm_high', 'gp_worktm_highest', 'gp_worktm_low', 'gp_worktm_medium',\n",
    "                    'occyp_hightecwk', 'occyp_officewk', 'famsizegp_1', 'famsizegp_3more',\n",
    "                    'houtp_Co-op apartment', 'houtp_Municipal apartment', 'houtp_Office apartment',\n",
    "                    'houtp_Rented apartment', 'houtp_With parents', 'edutp_Higher education',\n",
    "                    'edutp_Incomplete higher', 'edutp_Lower secondary', 'famtp_Civil marriage',\n",
    "                    'famtp_Separated', 'famtp_Single / not married', 'famtp_Widow']\n",
    "\n",
    "Y = new_data[target_variable]\n",
    "X = new_data[feature_columns]"
   ]
  },
  {
   "cell_type": "code",
   "execution_count": null,
   "metadata": {
    "id": "vN5eJ1GHkhiR"
   },
   "outputs": [],
   "source": [
    "from imblearn.over_sampling import SMOTE\n",
    "\n",
    "# Convert the target variable Y to integer\n",
    "Y = Y.astype('int')\n",
    "\n",
    "# Perform SMOTE resampling\n",
    "smote = SMOTE()\n",
    "X_balance, Y_balance = smote.fit_resample(X, Y)\n",
    "\n",
    "# Convert the resampled features to a DataFrame with original column names\n",
    "X_balance = pd.DataFrame(X_balance, columns=X.columns)"
   ]
  },
  {
   "cell_type": "code",
   "execution_count": null,
   "metadata": {
    "id": "gfq6LQySkjlK"
   },
   "outputs": [],
   "source": [
    "from sklearn.model_selection import train_test_split\n",
    "\n",
    "# Specify the test size and random state\n",
    "test_size = 0.3\n",
    "random_state = 10086\n",
    "\n",
    "# Perform the train-test split with stratification\n",
    "X_train, X_test, y_train, y_test = train_test_split(X_balance, Y_balance,\n",
    "                                                    stratify=Y_balance,\n",
    "                                                    test_size=test_size,\n",
    "                                                    random_state=random_state)"
   ]
  },
  {
   "cell_type": "code",
   "execution_count": null,
   "metadata": {
    "colab": {
     "base_uri": "https://localhost:8080/",
     "height": 290
    },
    "id": "WEJeWu5dkltX",
    "outputId": "8da53866-f497-4c4e-f5af-36e57395aa66"
   },
   "outputs": [],
   "source": [
    "X_train.head()"
   ]
  },
  {
   "cell_type": "code",
   "execution_count": null,
   "metadata": {
    "id": "HHeVVa0EkniM"
   },
   "outputs": [],
   "source": [
    "# Extract the 'ID' column from X_train and X_test\n",
    "X_train_ID = X_train['ID'].copy()\n",
    "X_test_ID = X_test['ID'].copy()"
   ]
  },
  {
   "cell_type": "code",
   "execution_count": null,
   "metadata": {
    "id": "Xyx4_mWXkpwf"
   },
   "outputs": [],
   "source": [
    "# Extract the 'ID' column from X_test with copy\n",
    "X_test_ID = X_test['ID'].copy()"
   ]
  },
  {
   "cell_type": "code",
   "execution_count": null,
   "metadata": {
    "colab": {
     "base_uri": "https://localhost:8080/",
     "height": 290
    },
    "id": "G1wmDZCAksh1",
    "outputId": "62b22fcb-afa2-45e5-a49e-5b96750549b6"
   },
   "outputs": [],
   "source": [
    "X_test.head()"
   ]
  },
  {
   "cell_type": "code",
   "execution_count": null,
   "metadata": {
    "colab": {
     "base_uri": "https://localhost:8080/",
     "height": 602
    },
    "id": "lflzpA4WkueI",
    "outputId": "020a1efa-54fe-401f-cd9d-730f67e96c35"
   },
   "outputs": [],
   "source": [
    "from sklearn.linear_model import LogisticRegression\n",
    "\n",
    "# Create and train the Logistic Regression model\n",
    "model = LogisticRegression(C=0.8, random_state=0, solver='lbfgs')\n",
    "model.fit(X_train, y_train)\n",
    "\n",
    "# Make predictions on the test set\n",
    "y_predict = model.predict(X_test)\n",
    "\n",
    "# Calculate and print the accuracy score\n",
    "accuracy = accuracy_score(y_test, y_predict)\n",
    "print('Accuracy Score is {:.5}'.format(accuracy))\n",
    "\n",
    "# Print the confusion matrix\n",
    "conf_matrix = confusion_matrix(y_test, y_predict)\n",
    "print(pd.DataFrame(conf_matrix))\n",
    "\n",
    "# Visualize the confusion matrix\n",
    "sns.set_style('white')\n",
    "class_names = ['0', '1']\n",
    "plot_confusion_matrix(conf_matrix, classes=class_names, title='Confusion Matrix: Logistic Regression')"
   ]
  },
  {
   "cell_type": "code",
   "execution_count": null,
   "metadata": {
    "colab": {
     "base_uri": "https://localhost:8080/"
    },
    "id": "k7WA7UUHkxUx",
    "outputId": "904d7951-0e23-4463-bda0-386fa55e18b5"
   },
   "outputs": [],
   "source": [
    "# Check the lengths of y_predict, y_test, and X_test_ID\n",
    "length_y_predict = len(y_predict)\n",
    "length_y_test = len(y_test)\n",
    "length_X_test_ID = len(X_test_ID)\n",
    "\n",
    "print(f\"Length of y_predict: {length_y_predict}\")\n",
    "print(f\"Length of y_test: {length_y_test}\")\n",
    "print(f\"Length of X_test_ID: {length_X_test_ID}\")"
   ]
  },
  {
   "cell_type": "code",
   "execution_count": null,
   "metadata": {
    "colab": {
     "base_uri": "https://localhost:8080/",
     "height": 423
    },
    "id": "Otz4geuDkzrV",
    "outputId": "cbb818b6-49c2-43da-fce2-0b7bd065c58c"
   },
   "outputs": [],
   "source": [
    "# Create final_prediction_caparison DataFrame\n",
    "final_prediction_caparison = pd.DataFrame({'ID': X_test_ID, 'y_test': y_test, 'y_predict': y_predict})\n",
    "\n",
    "# Display the DataFrame\n",
    "final_prediction_caparison"
   ]
  },
  {
   "cell_type": "code",
   "execution_count": null,
   "metadata": {
    "colab": {
     "base_uri": "https://localhost:8080/",
     "height": 602
    },
    "id": "vfiAdivwk1ve",
    "outputId": "de1107f2-6927-46a7-8058-07002c2b1a86"
   },
   "outputs": [],
   "source": [
    "from sklearn.tree import DecisionTreeClassifier\n",
    "\n",
    "# Create and train the Decision Tree model\n",
    "model = DecisionTreeClassifier(max_depth=12, min_samples_split=8, random_state=1024)\n",
    "model.fit(X_train, y_train)\n",
    "\n",
    "# Make predictions on the test set\n",
    "y_predict = model.predict(X_test)\n",
    "\n",
    "# Calculate and print the accuracy score\n",
    "accuracy = accuracy_score(y_test, y_predict)\n",
    "print('Accuracy Score is {:.5}'.format(accuracy))\n",
    "\n",
    "# Print the confusion matrix\n",
    "conf_matrix = confusion_matrix(y_test, y_predict)\n",
    "print(pd.DataFrame(conf_matrix))\n",
    "\n",
    "# Visualize the confusion matrix\n",
    "sns.set_style('white')\n",
    "class_names = ['0', '1']\n",
    "plot_confusion_matrix(conf_matrix, classes=class_names, title='Confusion Matrix: Decision Tree')"
   ]
  },
  {
   "cell_type": "code",
   "execution_count": null,
   "metadata": {
    "colab": {
     "base_uri": "https://localhost:8080/",
     "height": 602
    },
    "id": "36S_Xk5Ck4Lq",
    "outputId": "b3650719-ef9a-43c2-fdfa-2b874c655173"
   },
   "outputs": [],
   "source": [
    "from sklearn.ensemble import RandomForestClassifier\n",
    "\n",
    "# Create and train the Random Forest model\n",
    "model = RandomForestClassifier(n_estimators=250, max_depth=12, min_samples_leaf=16)\n",
    "model.fit(X_train, y_train)\n",
    "\n",
    "# Make predictions on the test set\n",
    "y_predict = model.predict(X_test)\n",
    "\n",
    "# Calculate and print the accuracy score\n",
    "accuracy = accuracy_score(y_test, y_predict)\n",
    "print('Accuracy Score is {:.5}'.format(accuracy))\n",
    "\n",
    "# Print the confusion matrix\n",
    "conf_matrix = confusion_matrix(y_test, y_predict)\n",
    "print(pd.DataFrame(conf_matrix))\n",
    "\n",
    "# Visualize the confusion matrix\n",
    "sns.set_style('white')\n",
    "class_names = ['0', '1']\n",
    "plot_confusion_matrix(conf_matrix, classes=class_names, title='Confusion Matrix: Random Forests')"
   ]
  },
  {
   "cell_type": "code",
   "execution_count": null,
   "metadata": {
    "colab": {
     "base_uri": "https://localhost:8080/",
     "height": 602
    },
    "id": "bkp1bihZk6wk",
    "outputId": "acd727d4-f8f7-4482-a11e-fee4aebe5c3b"
   },
   "outputs": [],
   "source": [
    "from sklearn.svm import SVC\n",
    "\n",
    "# Create and train the Support Vector Machine model\n",
    "svm_model = SVC(C=1, kernel='rbf', gamma='scale', random_state=42)\n",
    "svm_model.fit(X_train, y_train)\n",
    "\n",
    "# Make predictions on the test set\n",
    "y_predict_svm = svm_model.predict(X_test)\n",
    "\n",
    "# Calculate and print the accuracy score\n",
    "accuracy_svm = accuracy_score(y_test, y_predict_svm)\n",
    "print('Accuracy Score for SVM is {:.5}'.format(accuracy_svm))\n",
    "\n",
    "# Print the confusion matrix for SVM\n",
    "conf_matrix_svm = confusion_matrix(y_test, y_predict_svm)\n",
    "print(conf_matrix_svm)\n",
    "\n",
    "# Visualize the confusion matrix for SVM\n",
    "sns.set_style('white')\n",
    "class_names_svm = ['0', '1']\n",
    "plot_confusion_matrix(conf_matrix_svm, classes=class_names_svm, title='Confusion Matrix: SVM')\n"
   ]
  }
 ],
 "metadata": {
  "colab": {
   "provenance": []
  },
  "kernelspec": {
   "display_name": "Python 3 (ipykernel)",
   "language": "python",
   "name": "python3"
  },
  "language_info": {
   "codemirror_mode": {
    "name": "ipython",
    "version": 3
   },
   "file_extension": ".py",
   "mimetype": "text/x-python",
   "name": "python",
   "nbconvert_exporter": "python",
   "pygments_lexer": "ipython3",
   "version": "3.11.6"
  }
 },
 "nbformat": 4,
 "nbformat_minor": 4
}
